{
 "cells": [
  {
   "cell_type": "code",
   "execution_count": null,
   "id": "36ae7a0d",
   "metadata": {
    "tags": []
   },
   "outputs": [],
   "source": [
    "%load_ext autoreload\n",
    "%autoreload 2"
   ]
  },
  {
   "cell_type": "code",
   "execution_count": null,
   "id": "f14afdc8",
   "metadata": {
    "tags": []
   },
   "outputs": [],
   "source": [
    "import pandas as pd\n",
    "import matplotlib.pyplot as plt\n",
    "import seaborn as sns\n",
    "import numpy as np\n",
    "\n",
    "from thalamus_merfish_analysis import ccf_plots as cplots\n",
    "from thalamus_merfish_analysis import ccf_images as cimg\n",
    "from thalamus_merfish_analysis import abc_load as abc\n",
    "get_ipython().run_line_magic('matplotlib', 'inline') "
   ]
  },
  {
   "cell_type": "markdown",
   "id": "2c770388",
   "metadata": {},
   "source": [
    "## Load brain3 data"
   ]
  },
  {
   "cell_type": "code",
   "execution_count": null,
   "id": "e081cde8",
   "metadata": {
    "tags": []
   },
   "outputs": [],
   "source": [
    "realigned=False\n",
    "obs = abc.get_combined_metadata(realigned=False, version=\"20230830\", drop_unused=False)"
   ]
  },
  {
   "cell_type": "code",
   "execution_count": null,
   "id": "5e00df3f",
   "metadata": {
    "tags": []
   },
   "outputs": [],
   "source": [
    "ccf_polygons = abc.get_ccf_labels_image(resampled=True, realigned=realigned)\n",
    "if realigned:\n",
    "    ccf_label = 'parcellation_substructure_realigned'\n",
    "    coords = 'section'\n",
    "else:\n",
    "    ccf_label = 'parcellation_substructure'\n",
    "    coords = 'reconstructed'"
   ]
  },
  {
   "cell_type": "markdown",
   "id": "c3a75574",
   "metadata": {},
   "source": [
    "### preprocessing"
   ]
  },
  {
   "cell_type": "code",
   "execution_count": null,
   "id": "6bbfc91a",
   "metadata": {},
   "outputs": [],
   "source": [
    "th_names = abc.get_thalamus_substructure_names()\n",
    "th_subregion_names = list(set(th_names).difference(['TH-unassigned']))"
   ]
  },
  {
   "cell_type": "code",
   "execution_count": null,
   "id": "1c524d63",
   "metadata": {},
   "outputs": [],
   "source": [
    "# remove non-neuronal and some other outlier non-thalamus types\n",
    "obs_neurons = abc.filter_adata_by_class(obs, filter_midbrain=False)"
   ]
  },
  {
   "cell_type": "code",
   "execution_count": null,
   "id": "c5bb8a2e",
   "metadata": {},
   "outputs": [],
   "source": [
    "# filter to CCF using thalamus outline with a small buffer (slower)\n",
    "obs_th = abc.label_thalamus_spatial_subset(obs, distance_px=5, realigned=realigned, filter_cells=True)\n",
    "\n",
    "# subset just the neurons\n",
    "obs_th_neurons = obs.loc[obs_neurons.index.intersection(obs_th.index)]\n",
    "obs_th_strict = obs_th_neurons.loc[lambda df: df[ccf_label].isin(th_names)]"
   ]
  },
  {
   "cell_type": "code",
   "execution_count": null,
   "id": "d133e930",
   "metadata": {},
   "outputs": [],
   "source": [
    "section_col = 'z_section'\n",
    "sections_all = sorted(obs_th_neurons[section_col].unique())\n",
    "# pick 3 example sections\n",
    "sections_3 = [6.4, 7.2, 8.0]"
   ]
  },
  {
   "cell_type": "code",
   "execution_count": null,
   "id": "8cf10760",
   "metadata": {},
   "outputs": [],
   "source": [
    "sections_int = np.rint(np.array(sections_all)/0.2).astype(int)\n",
    "ccf_boundaries = cimg.sectionwise_label_erosion(ccf_polygons, distance_px=1, fill_val=0, \n",
    "                                                return_edges=True, section_list=sections_int\n",
    "                                                )"
   ]
  },
  {
   "cell_type": "markdown",
   "id": "9da8bb6c-2ba8-4e92-a1d9-ecd84dc408a5",
   "metadata": {},
   "source": [
    "## view CCF"
   ]
  },
  {
   "cell_type": "code",
   "execution_count": null,
   "id": "84cb7d8c-7055-4d3e-a05d-e0b130821c9a",
   "metadata": {
    "scrolled": true,
    "tags": []
   },
   "outputs": [],
   "source": [
    "cplots.plot_ccf_overlay(obs_th_neurons.iloc[[],:], # no foreground cells; just the ccf shapes\n",
    "                        ccf_polygons, sections=sections_3, point_hue=ccf_label, \n",
    "                        highlight='all', legend='ccf',\n",
    "                        section_col=section_col,\n",
    "                        x_col = 'x_'+coords,\n",
    "                        y_col = 'y_'+coords,\n",
    "                        bg_shapes=False, min_section_count=0, \n",
    "                        boundary_img=ccf_boundaries);"
   ]
  },
  {
   "cell_type": "markdown",
   "id": "564095e5",
   "metadata": {},
   "source": [
    "## view taxonomy labels over CCF"
   ]
  },
  {
   "cell_type": "markdown",
   "id": "28a2a844",
   "metadata": {},
   "source": [
    "### select thalamus celltype subsets"
   ]
  },
  {
   "cell_type": "code",
   "execution_count": null,
   "id": "73fd778e",
   "metadata": {},
   "outputs": [],
   "source": [
    "subclasses_all = obs_th_strict['subclass'].value_counts().loc[lambda x: x>100].index\n",
    "print(len(subclasses_all))\n",
    "\n",
    "supertypes_all = obs_th_strict['supertype'].value_counts().loc[lambda x: x>20].index\n",
    "print(len(supertypes_all))"
   ]
  },
  {
   "cell_type": "code",
   "execution_count": null,
   "id": "00c82521",
   "metadata": {},
   "outputs": [],
   "source": [
    "obs_th_neurons.loc[lambda df: df['subclass'].isin(subclasses_all), 'class'].value_counts()"
   ]
  },
  {
   "cell_type": "code",
   "execution_count": null,
   "id": "cb5640da",
   "metadata": {},
   "outputs": [],
   "source": [
    "supertypes_from_subclasses = obs_th_neurons.loc[\n",
    "    lambda df: df['subclass'].isin(subclasses_all), 'supertype'].unique()\n",
    "supertypes_from_subclasses.shape[0]"
   ]
  },
  {
   "cell_type": "code",
   "execution_count": null,
   "id": "56c67516",
   "metadata": {},
   "outputs": [],
   "source": [
    "len(supertypes_all.intersection(supertypes_from_subclasses))"
   ]
  },
  {
   "cell_type": "code",
   "execution_count": null,
   "id": "87896024",
   "metadata": {},
   "outputs": [],
   "source": [
    "obs_th_neurons.loc[lambda df: df['subclass'].isin(subclasses_all), 'cluster'].unique().shape[0]"
   ]
  },
  {
   "cell_type": "markdown",
   "id": "f0a195a1",
   "metadata": {},
   "source": [
    "### Plots"
   ]
  },
  {
   "cell_type": "code",
   "execution_count": null,
   "id": "9c7636d3-a64c-4e70-8f72-93a6173f5c3b",
   "metadata": {
    "tags": []
   },
   "outputs": [],
   "source": [
    "palettes = {level: abc.get_taxonomy_palette(level) for level in \n",
    "            ['subclass','supertype','cluster']}"
   ]
  },
  {
   "cell_type": "code",
   "execution_count": null,
   "id": "692a9f75",
   "metadata": {},
   "outputs": [],
   "source": [
    "\n",
    "kwargs = dict(\n",
    "    bg_cells=obs_th_strict,\n",
    "    section_col=section_col,\n",
    "    x_col = 'x_'+coords,\n",
    "    y_col = 'y_'+coords,\n",
    "    s=3, \n",
    "    shape_palette='dark_outline',\n",
    "    boundary_img=ccf_boundaries\n",
    ")"
   ]
  },
  {
   "cell_type": "code",
   "execution_count": null,
   "id": "f10f3a6b",
   "metadata": {},
   "outputs": [],
   "source": [
    "obs = obs_th_neurons.loc[lambda df: df['subclass'].isin(subclasses_all)]\n",
    "cplots.plot_ccf_overlay(obs, ccf_polygons, \n",
    "                        point_hue='subclass', sections=sections_3,\n",
    "                        point_palette=palettes['subclass'],\n",
    "                        legend='cells', \n",
    "                        **kwargs);"
   ]
  },
  {
   "cell_type": "code",
   "execution_count": null,
   "id": "0d169f94",
   "metadata": {},
   "outputs": [],
   "source": [
    "# TODO: this is not a good palette! maybe make supertypes of a subtype the same hue?\n",
    "obs = obs_th_neurons.loc[lambda df: df['supertype'].isin(supertypes_all)]\n",
    "cplots.plot_ccf_overlay(obs, ccf_polygons, \n",
    "                        point_hue='supertype', sections=sections_3,\n",
    "                        point_palette=palettes['supertype'],\n",
    "                        legend='cells', \n",
    "                        **kwargs);"
   ]
  },
  {
   "cell_type": "code",
   "execution_count": null,
   "id": "bf8451fb",
   "metadata": {},
   "outputs": [],
   "source": [
    "obs = obs_th_neurons.loc[lambda df: df['subclass'].isin(subclasses_all)]\n",
    "cplots.plot_ccf_overlay(obs, ccf_polygons, \n",
    "                        point_hue='cluster', sections=sections_3,\n",
    "                        point_palette=palettes['cluster'],\n",
    "                        legend=None, \n",
    "                        **kwargs);"
   ]
  },
  {
   "cell_type": "markdown",
   "id": "ae3a3500",
   "metadata": {},
   "source": [
    "## subclass view of all sections"
   ]
  },
  {
   "cell_type": "code",
   "execution_count": null,
   "id": "47874a9d",
   "metadata": {},
   "outputs": [],
   "source": [
    "obs = obs_th_neurons.loc[lambda df: df['subclass'].isin(subclasses_all)]\n",
    "cplots.plot_ccf_overlay(obs, ccf_polygons, \n",
    "                        point_hue='subclass', point_palette=palettes['subclass'],\n",
    "                        min_group_count=30,\n",
    "                        **kwargs);"
   ]
  },
  {
   "cell_type": "markdown",
   "id": "b1733310",
   "metadata": {},
   "source": [
    "## specific nuclei examples"
   ]
  },
  {
   "cell_type": "markdown",
   "id": "6bddbd4a",
   "metadata": {},
   "source": [
    "### ANT"
   ]
  },
  {
   "cell_type": "markdown",
   "id": "7e115c6b",
   "metadata": {},
   "source": [
    "#### supertypes"
   ]
  },
  {
   "cell_type": "code",
   "execution_count": null,
   "id": "112f8c0b",
   "metadata": {},
   "outputs": [],
   "source": [
    "sections = [8.0]\n",
    "clusters = [str(x) for x in list(range(2613, 2616+1)) + list(range(2674, 2676+1))]\n",
    "obs = obs_th_neurons.loc[lambda df: df['cluster'].str[:4].isin(clusters)]\n",
    "nuclei = ['AD', 'AV', 'AMd', 'AMv']\n",
    "\n",
    "cplots.plot_ccf_overlay(obs, ccf_polygons,\n",
    "                        point_hue='supertype', point_palette=palettes['supertype'],\n",
    "                        sections=sections,\n",
    "                        ccf_names=nuclei, legend='cells',\n",
    "                        **kwargs);"
   ]
  },
  {
   "cell_type": "code",
   "execution_count": null,
   "id": "52d5d13c",
   "metadata": {},
   "outputs": [],
   "source": [
    "# or plot all sections based on the selected cells\n",
    "cplots.plot_ccf_overlay(obs, ccf_polygons,\n",
    "                        point_hue='supertype', point_palette=palettes['supertype'],\n",
    "                        sections=None,\n",
    "                        ccf_names=nuclei, legend='cells',\n",
    "                        **kwargs);"
   ]
  },
  {
   "cell_type": "markdown",
   "id": "0dc00556",
   "metadata": {},
   "source": [
    "#### clusters"
   ]
  },
  {
   "cell_type": "code",
   "execution_count": null,
   "id": "039bb19f",
   "metadata": {},
   "outputs": [],
   "source": [
    "cplots.plot_ccf_overlay(obs, ccf_polygons,\n",
    "                        point_hue='cluster', point_palette=palettes['cluster'],\n",
    "                        sections=sections,\n",
    "                        ccf_names=nuclei, legend='cells',\n",
    "                        **kwargs);"
   ]
  },
  {
   "cell_type": "markdown",
   "id": "19537386",
   "metadata": {},
   "source": [
    "### VAL + VM (clusters)"
   ]
  },
  {
   "cell_type": "code",
   "execution_count": null,
   "id": "9321f2ac",
   "metadata": {},
   "outputs": [],
   "source": [
    "\n",
    "sections = [7.2, 7.0, 6.8]\n",
    "clusters = ['2683','2684','2687']\n",
    "obs = obs_th_neurons.loc[lambda df: df['cluster'].str[:4].isin(clusters)]\n",
    "nuclei = ['VM','VAL']\n",
    "cplots.plot_ccf_overlay(obs, ccf_polygons,\n",
    "                        point_hue='cluster', point_palette=palettes['cluster'],\n",
    "                        sections=sections,\n",
    "                        ccf_names=nuclei, legend='cells',\n",
    "                        **kwargs);"
   ]
  },
  {
   "cell_type": "markdown",
   "id": "56e9ac26",
   "metadata": {},
   "source": [
    "### PVT"
   ]
  },
  {
   "cell_type": "markdown",
   "id": "a2be79de",
   "metadata": {},
   "source": [
    "#### supertypes in one subclass"
   ]
  },
  {
   "cell_type": "code",
   "execution_count": null,
   "id": "a521e37c",
   "metadata": {},
   "outputs": [],
   "source": [
    "sections = [6.6, 7.8, 8.2]\n",
    "nuclei = ['PVT']\n",
    "# subclasses annotated as PVT\n",
    "obs = obs_th_neurons.loc[np.any([obs_th_neurons['subclass'].str.contains(x).values for x in nuclei], axis=0), :]\n",
    "cplots.plot_ccf_overlay(obs, ccf_polygons,\n",
    "                        point_hue='supertype', point_palette=palettes['supertype'],\n",
    "                        sections=sections,\n",
    "                        ccf_names=nuclei, legend='cells',\n",
    "                        **kwargs);"
   ]
  },
  {
   "cell_type": "markdown",
   "id": "54551327",
   "metadata": {},
   "source": [
    "### RT"
   ]
  },
  {
   "cell_type": "markdown",
   "id": "934e6f64",
   "metadata": {},
   "source": [
    "#### supertypes in one subclass"
   ]
  },
  {
   "cell_type": "code",
   "execution_count": null,
   "id": "3494d028",
   "metadata": {},
   "outputs": [],
   "source": [
    "sections = [7.2, 7.8]\n",
    "nuclei = ['RT','ZI']\n",
    "match = 'RT-ZI'\n",
    "obs = obs_th_neurons.loc[obs_th_neurons['subclass'].str.contains(match)]\n",
    "cplots.plot_ccf_overlay(obs, ccf_polygons,\n",
    "                        point_hue='supertype', point_palette=palettes['supertype'],\n",
    "                        sections=sections,\n",
    "                        ccf_names=nuclei, legend='cells',\n",
    "                        **kwargs);"
   ]
  },
  {
   "cell_type": "markdown",
   "id": "5fdbe282",
   "metadata": {},
   "source": [
    "## other nuclei from annotations"
   ]
  },
  {
   "cell_type": "markdown",
   "id": "1fa7426d",
   "metadata": {},
   "source": [
    "### PT"
   ]
  },
  {
   "cell_type": "code",
   "execution_count": null,
   "id": "c79d15a8",
   "metadata": {},
   "outputs": [],
   "source": [
    "nucleus='PT'\n",
    "obs = abc.get_obs_from_annotated_clusters(nucleus, obs_th_neurons)\n",
    "\n",
    "cplots.plot_ccf_overlay(obs, ccf_polygons,\n",
    "                        point_hue='supertype', point_palette=palettes['supertype'],\n",
    "                        ccf_names=[nucleus],\n",
    "                        **kwargs);"
   ]
  },
  {
   "cell_type": "markdown",
   "id": "68e7c3bb",
   "metadata": {},
   "source": [
    "### LGd"
   ]
  },
  {
   "cell_type": "code",
   "execution_count": null,
   "id": "9a7bb429",
   "metadata": {},
   "outputs": [],
   "source": [
    "\n",
    "nuclei=['LGd-co', 'LGd-ip', 'LGd-sh']\n",
    "obs = abc.get_obs_from_annotated_clusters('LGd', obs_th_neurons)\n",
    "\n",
    "cplots.plot_ccf_overlay(obs, ccf_polygons,\n",
    "                        point_hue='cluster', point_palette=palettes['cluster'],\n",
    "                        ccf_names=nuclei,\n",
    "                        **kwargs);"
   ]
  },
  {
   "cell_type": "markdown",
   "id": "b34ceb46",
   "metadata": {},
   "source": [
    "### SMT"
   ]
  },
  {
   "cell_type": "code",
   "execution_count": null,
   "id": "9f5a462d",
   "metadata": {},
   "outputs": [],
   "source": [
    "nucleus='SMT'\n",
    "obs = abc.get_obs_from_annotated_clusters(nucleus, obs_th_neurons)\n",
    "\n",
    "cplots.plot_ccf_overlay(obs, ccf_polygons,\n",
    "                        point_hue='cluster', point_palette=palettes['cluster'],\n",
    "                        ccf_names=[nucleus],\n",
    "                        **kwargs);"
   ]
  },
  {
   "cell_type": "markdown",
   "id": "48d5e035",
   "metadata": {},
   "source": [
    "### LD"
   ]
  },
  {
   "cell_type": "code",
   "execution_count": null,
   "id": "e2dd53c2",
   "metadata": {},
   "outputs": [],
   "source": [
    "nucleus='LD'\n",
    "obs = abc.get_obs_from_annotated_clusters(nucleus, obs_th_neurons)\n",
    "\n",
    "cplots.plot_ccf_overlay(obs, ccf_polygons,\n",
    "                        point_hue='cluster', point_palette=palettes['cluster'],\n",
    "                        ccf_names=[nucleus],\n",
    "                        **kwargs);"
   ]
  },
  {
   "cell_type": "markdown",
   "id": "36a36b41",
   "metadata": {},
   "source": [
    "### PVT-IMD overlap"
   ]
  },
  {
   "cell_type": "code",
   "execution_count": null,
   "id": "f4a046f9",
   "metadata": {},
   "outputs": [],
   "source": [
    "# by annotation\n",
    "obs = pd.concat([\n",
    "    abc.get_obs_from_annotated_clusters('PVT', obs_th_neurons),\n",
    "    abc.get_obs_from_annotated_clusters('PVT IMD', obs_th_neurons)\n",
    "])\n",
    "nuclei = ['PVT','IMD']\n",
    "# by subclass (excluding)\n",
    "# obs = obs_th_neurons.loc[lambda df: df['subclass'].str.contains('PVT')]\n",
    "# obs = obs.loc[obs.index.difference(obs_anno.index)]\n",
    "\n",
    "# by cluster\n",
    "# clusters = ['2617','2629']\n",
    "# obs = obs_th_neurons.loc[lambda df: df['cluster'].str[:4].isin(clusters)]\n",
    "\n",
    "cplots.plot_ccf_overlay(obs, ccf_polygons,\n",
    "                        min_group_count=0,min_section_count=20,\n",
    "                        point_hue='cluster', point_palette=palettes['cluster'],\n",
    "                        ccf_names=nuclei, \n",
    "                        **kwargs);"
   ]
  },
  {
   "cell_type": "code",
   "execution_count": null,
   "id": "1a955741",
   "metadata": {},
   "outputs": [],
   "source": []
  }
 ],
 "metadata": {
  "kernelspec": {
   "display_name": "Python 3 (ipykernel)",
   "language": "python",
   "name": "python3"
  },
  "language_info": {
   "codemirror_mode": {
    "name": "ipython",
    "version": 3
   },
   "file_extension": ".py",
   "mimetype": "text/x-python",
   "name": "python",
   "nbconvert_exporter": "python",
   "pygments_lexer": "ipython3",
   "version": "3.9.12"
  },
  "vscode": {
   "interpreter": {
    "hash": "d4d1e4263499bec80672ea0156c357c1ee493ec2b1c70f0acce89fc37c4a6abe"
   }
  }
 },
 "nbformat": 4,
 "nbformat_minor": 5
}
